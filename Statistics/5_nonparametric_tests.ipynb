{
 "cells": [
  {
   "cell_type": "markdown",
   "metadata": {},
   "source": [
    "# Основы математической статистики\n",
    "### Базовые понятия и методы проверки статистических гипотез"
   ]
  },
  {
   "cell_type": "markdown",
   "metadata": {},
   "source": [
    "### Часть 5. Непараметрические критерии"
   ]
  },
  {
   "cell_type": "markdown",
   "metadata": {},
   "source": [
    "### Содержание:\n",
    "\n",
    "1. Описание данных:\n",
    "    * Нормальное распределение, выборочные оценки.\n",
    "    * Проврка гипотез: ошибки первого и второго рода.\n",
    "    * Статистические критерии, критерии согласия.\n",
    "    * Чувствительность критерия.\n",
    "2. Параметрические критерии:\n",
    "    * Дисперсионный анализ.\n",
    "    * Критерий Стьюдента.\n",
    "    * Связанные выборки.\n",
    "    * Множественные сравнения.\n",
    "3. Анализ качественных признаков:\n",
    "    * Z-критерий.\n",
    "    * Таблицы сопряженности: критерий $\\chi^2$.\n",
    "    * Точный критерий Фишера.\n",
    "4. Доверительные интервалы:\n",
    "    * Построение доверительных интервалов.\n",
    "    * Проверка гипотез с помощью доверительных интервалов.\n",
    "5. Непараметрические критерии:\n",
    "    * Критерий Манна—Уитни.\n",
    "    * Критерий Уилкоксона.\n",
    "    * Критерий Крускала—Уоллиса.\n",
    "    * Критерий Фридмана."
   ]
  },
  {
   "cell_type": "markdown",
   "metadata": {},
   "source": [
    "<br>"
   ]
  },
  {
   "cell_type": "markdown",
   "metadata": {},
   "source": [
    "<hr>"
   ]
  },
  {
   "cell_type": "markdown",
   "metadata": {},
   "source": [
    "### Введение"
   ]
  },
  {
   "cell_type": "markdown",
   "metadata": {},
   "source": [
    "Зачастую вполне реально определить характер распределения совокупности, из которого была извлечена выборка, и подобрать соответствующий критерий. Однако, это происходит не всегда, и условия применимости параметрических критериев нарушаются. В таких случаях необходимо прибегать к непараметрическим методам.\n",
    "\n",
    "**Непараметрическая статистика** &mdash; раздел статистики, который не базируется исключительно на параметризованных семействах вероятностных распределений (примером могут служить матожидание и дисперсия). Как и ранее, рассмотрим раздел, связанный с проверкой статистических гипотез.\n",
    "\n",
    "Статистические непараметрические критерии делятся на несколько групп, например: знаковые, ранговые, перестановочные. Поговорим о каждом из них:\n",
    "\n",
    "* **Знаковые критерии**: используется при проверке нулевой гипотезы о равенстве медианы некоторому заданному значению (для одной выборки) или о равенстве нулю медианы разности (для двух связанных выборок). Суть заключается в подсчете числа объектов больше или меньше заданного значения. Не будем останавливаться на нем.\n",
    "\n",
    "* **Ранговые критерии**: это статистические тесты, в которых вместо выборочных значений используются их ранги (номера элементов в упорядоченной по возрастанию выборке). Существует много критериев, опирающихся на эту идею, и именно о них в основном и пойдет речь. \n",
    "\n",
    "* **Перестановочные критерии:** в качестве своей идеи имеют предположение, что при верности нулевой гипотезы разнообразные вариантны конфигураций значений равновероятны. Происходит перебор всех возможноных конфигураций и оценка вероятности возникновения наблюдаемой.\n",
    "\n",
    "Остановимся и подробнее обсудим ранговые критерии."
   ]
  },
  {
   "cell_type": "markdown",
   "metadata": {},
   "source": [
    "### Ранговые критерии"
   ]
  },
  {
   "cell_type": "markdown",
   "metadata": {},
   "source": [
    "Одними из самых популярных ранговых критериев являются:\n",
    "\n",
    "* Критерий Манна-Уитни: используется для оценки различий между двумя независимыми выборками.\n",
    "* Критерий Уилкоксона: используется для проверки различий между двумя выборками парных или независимых измерений.\n",
    "* Критерий Краскела-Уоллиса: проверяет гипотезу о том, имеют ли сравниваемые выборки одно и то же распределение или же распределения с одной и той же медианой (непараметрический аналог дисперсионного анализа).\n",
    "* Критерий Фридмана: применяется для исследования влияния разных значений фактора (градаций фактора) на одну и ту же выборку."
   ]
  },
  {
   "cell_type": "markdown",
   "metadata": {},
   "source": [
    "### Критерий Манна-Уитни"
   ]
  },
  {
   "cell_type": "markdown",
   "metadata": {},
   "source": [
    "Данный критерий является двувыборочным для независимых выборок. При использовании критерия к выборке, распределенной нормально, показывает мощность примерно на 10% меньшую, чем критерий Стьюдента. Однако, сильно выигрывает у него и других параметрических критериев при анализе выборок, не подчиняющимся нормальному распределению. \n",
    "\n",
    "Существую две разновидности данного критерия. Для начала рассмотрим **T-критерий Манна-Уитни**. Порядок вычисления таков:\n",
    "1. Данные обеих групп объединяют и упорядочивают по возрастанию. Ранг 1 присваивают наименьшему из всех значений, ранг 2 &ndash; следующему и так далее. Наибольший ранг присваивают самому большому среди значений в обеих группах. Если значения совпадают, им присваивают один и тот же средний ранг (например, если два значения поделили 3-е и 4-е места, обоим присваивают ранг 3,5). Общее количество рангов получится равным $N=n_{1}+n_{2}$, где $n_{1}$ &ndash; количество элементов в первой выборке, а $n_{2}$ &ndash; количество элементов во второй выборке.\n",
    "2. Для меньшей группы вычисляют $T$ &ndash; сумму рангов ее членов. Если численность групп одинакова, $T$ можно вычислить для любой из них.\n",
    "3. Полученное значение $T$ сравнивают с критическими значениями из специальной таблицы для избранного уровня статистической значимости. Если $T$ меньше или равно первому из них, либо больше или равно второму, то нулевая гипотеза отвергается (различия статистически значимы).\n",
    "\n",
    "При достаточно большом объеме выборочных данных (по некоторым данным $n_i >9$, но надежднее $n_i > 19$) можно не пользоваться таблицей &ndash; распределение статистики $Z$ \n",
    "\n",
    "$$ Z = \\frac{T -  \\mu_T}{\\sigma_T}, $$\n",
    "\n",
    "при справедливости нулевой гипотезы принимает вид, близкий к нормальному, со следующими параметрами:\n",
    "\n",
    "$$ \\mu_T = \\frac{n_1\\left(N + 1\\right)}{2}, $$\n",
    "\n",
    "$$ \\sigma_T = \\sqrt{\\frac{n_1\\left(N + 1\\right)}{12} - \\frac{n_1 n_2}{12N\\left(N^2 - 1\\right)}\\sum_{i=1}^{k}\\left(\\tau_i-1\\right)\\tau_i\\left(\\tau_i+1\\right)}, $$\n",
    "\n",
    "где $n_1$ &ndash; объем выборки меньшего размера, $n_2$ &ndash; объем выборки большего размера, $k$ &ndash; количество совпадающих рангов, $\\tau_i$ &ndash; число значений $i$-ого совпадающего ранга. Для большей точности вводится поправка Йейтса на непрерывность, актуальная для выборок малых размеров:\n",
    "\n",
    "$$ Z = \\frac{\\left|T -  \\mu_T\\right| - \\frac{1}{2}}{\\sigma_T}. $$\n",
    "\n",
    "Теперь рассмотрим **U-критерий Манна-Уитни**, который также называется критерий Уилкоксона-Манна-Уитни. Порядок вычисления таков:\n",
    "1. Аналогично Т-критерию.\n",
    "2. Разделить упорядоченный ряд на два, состоящие соответственно из единиц первой и второй выборок. Подсчитать отдельно сумму рангов, пришедшихся на долю элементов первой выборки, и отдельно &ndash; на долю элементов второй выборки. Определить большую из двух ранговых сумм $T_{x}$, соответствующую выборке с $n_{x}$ элементами.\n",
    "3. Определить значение U-критерия Манна — Уитни по формуле:\n",
    "$$ U = n_{1}\\cdot n_{2}+{\\frac {n_{x}\\cdot (n_{x}+1)}{2}}-T_{x}.$$\n",
    "4. По таблице для избранного уровня статистической значимости определить критическое значение критерия для данных $n_{1}$ и $n_{2}$. Если полученное значение $U$ меньше табличного или равно ему, то признается наличие существенного различия между уровнем признака в рассматриваемых выборках (принимается альтернативная гипотеза). Если же полученное значение $ U $ больше табличного, принимается нулевая гипотеза. Достоверность различий тем выше, чем меньше значение $U$.\n",
    "\n",
    "При справедливости нулевой гипотезы и при достаточно большом объёме выборочных данных $(n_{1}>19,n_{2}>19)$ критерий распределен нормально с следующими параметрами:\n",
    "\n",
    "$$\\mu_U = \\frac{n_{1}n_{2}}{2}, $$ \n",
    " \n",
    "$$ \\sigma_U= \\sqrt{\\frac{n_{1}n_{2}(N+1)}{12} - \\frac{n_1 n_2}{12N\\left(N^2 - 1\\right)}\\sum_{i=1}^{k}\\left(\\tau_i-1\\right)\\tau_i\\left(\\tau_i+1\\right)}.$$"
   ]
  },
  {
   "cell_type": "markdown",
   "metadata": {},
   "source": [
    "#### Пример"
   ]
  },
  {
   "cell_type": "code",
   "execution_count": 1,
   "metadata": {},
   "outputs": [],
   "source": [
    "import numpy as np\n",
    "from scipy import stats\n",
    "import matplotlib.pyplot as plt\n",
    "%matplotlib inline"
   ]
  },
  {
   "cell_type": "code",
   "execution_count": 2,
   "metadata": {},
   "outputs": [],
   "source": [
    "def plot_hist(sample, bars=7):\n",
    "    plt.figure(figsize=(12, 6))\n",
    "    plt.hist(sample, bars, alpha=0.8)\n",
    "    plt.show()\n",
    "    \n",
    "def print_result(result):\n",
    "    print(\"Значение статистики: %.5f\" % result[0])\n",
    "    print(\"p-value: %.5f\" % result[1])"
   ]
  },
  {
   "cell_type": "markdown",
   "metadata": {},
   "source": [
    "Рассмотрим самый обычный пример двувыборочного анализа значимости различий. Пусть сравниваются два типа двигателя, установленные на двух одинаковых автомобилях. Сравнивается расход топлива на 100км.\n",
    "\n",
    "Первый двигатель:"
   ]
  },
  {
   "cell_type": "code",
   "execution_count": 3,
   "metadata": {},
   "outputs": [
    {
     "data": {
      "image/png": "[encoded data removed]",
      "text/plain": [
       "<Figure size 864x432 with 1 Axes>"
      ]
     },
     "metadata": {},
     "output_type": "display_data"
    }
   ],
   "source": [
    "first_engine = [8.8, 8.1, 8.1, 9.9, 9.9, 9.6, 8.1, 8.1, 8.8, 8.9, 8.8, 9.2]\n",
    "plot_hist(first_engine, bars=5)"
   ]
  },
  {
   "cell_type": "markdown",
   "metadata": {},
   "source": [
    "Второй двигатель:"
   ]
  },
  {
   "cell_type": "code",
   "execution_count": 4,
   "metadata": {},
   "outputs": [
    {
     "data": {
      "image/png": "[encoded data removed]",
      "text/plain": [
       "<Figure size 864x432 with 1 Axes>"
      ]
     },
     "metadata": {},
     "output_type": "display_data"
    }
   ],
   "source": [
    "second_engine = [6.8, 7.1, 7.1, 8.4, 9.5, 6.8, 8.1, 9.1, 6.7, 8.9, 8.8, 6.2]\n",
    "plot_hist(second_engine, bars=5)"
   ]
  },
  {
   "cell_type": "markdown",
   "metadata": {},
   "source": [
    "Очевидно, что выборки не подчиняются нормальному распределению, поэтому мы не можем использовать критерий Стьюдента.\n",
    "\n",
    "* Нулевая гипотеза: у двигателей одинаковый расход топлива;\n",
    "* Альтернатива: разница между расходами статистически значима.\n",
    "\n",
    "Применим U-критерий Манна-Уитни:"
   ]
  },
  {
   "cell_type": "code",
   "execution_count": 5,
   "metadata": {},
   "outputs": [
    {
     "name": "stdout",
     "output_type": "stream",
     "text": [
      "Значение статистики: 108.00000\n",
      "p-value: 0.03893\n"
     ]
    }
   ],
   "source": [
    "print_result(stats.mannwhitneyu(first_engine, second_engine, alternative=\"two-sided\"))"
   ]
  },
  {
   "cell_type": "markdown",
   "metadata": {},
   "source": [
    "Приходим к выводу, что различие в расходе топлива между двумя двигателями статистически значимо при уровне $\\alpha = 0.05$."
   ]
  },
  {
   "cell_type": "markdown",
   "metadata": {},
   "source": [
    "### Критерий Уилкоксона"
   ]
  },
  {
   "cell_type": "markdown",
   "metadata": {},
   "source": [
    "**Критерий Уилкоксона** &ndash; непараметрический статистический тест, используемый для проверки различий между двумя выборками парных или независимых измерений. Имеет много общего с критерием Манна-Уитни, в некоторых источник критерий Манна-Уитни называют критерием Уилкоксона для независимых измерений.\n",
    "\n",
    "Как и в любом парном измерении, имеем одну группу с замеренным параметром до эксперимента и после. Алгоритм выглядит следующим образом:\n",
    "1. Вычисляются величины изменений наблюдаемого признака. Отбрасываются пары наблюдений, которым соответствует нулевое изменение.\n",
    "2. Изменения упорядочиваются по возрастанию их абсолютной величины и присваиваются соответствующие ранги. Рангами одинаковых величин являются среднее их рангов.\n",
    "3. Каждому рангу присваевается знак в соответствии с направлением изменения: если значение увеличилось &ndash; «+», если уменьшилось &ndash; «–».\n",
    "4. Вычисляется сумма знаковых рангов $W$.\n",
    "5. Полученная величина $W$ сравнивается с критическим значением. Если она больше критического значения, изменение показателя статистически значимо.\n",
    "\n",
    "Если $n > 19$, то распределение статистики с поправкой на непрерывность\n",
    "\n",
    "$$z_W = \\frac{\\left|W-\\mu_W\\right| - \\frac{1}{2}}{\\sigma_W}$$ \n",
    "\n",
    "стремится к нормальному с параметрами:\n",
    "\n",
    "$$ \\mu_W = 0, $$\n",
    "\n",
    "$$ \\sigma_W = \\sqrt{\\frac{n\\left(n+1\\right)\\left(2n+1\\right)}{6} - \\frac{1}{12}\\sum_{i=1}^{k}\\left(\\tau_i-1\\right)\\tau_i\\left(\\tau_i+1\\right)}. $$\n",
    "\n",
    "Если $n < 19$, следует воспользоваться соответствующей таблицей."
   ]
  },
  {
   "cell_type": "markdown",
   "metadata": {},
   "source": [
    "#### Пример"
   ]
  },
  {
   "cell_type": "markdown",
   "metadata": {},
   "source": [
    "Владелец небольшого магазина решил проверить, как изменится его прибыль, если он разместит в округе несколько рекламных вывесок. Анализируем прибыль одного магазина 4 недели: 2 недели без рекламы и 2 с рекламой. \n",
    "\n",
    "Данные по прибыли без рекламы:"
   ]
  },
  {
   "cell_type": "code",
   "execution_count": 6,
   "metadata": {},
   "outputs": [
    {
     "data": {
      "image/png": "[encoded data removed]",
      "text/plain": [
       "<Figure size 864x432 with 1 Axes>"
      ]
     },
     "metadata": {},
     "output_type": "display_data"
    }
   ],
   "source": [
    "without_ad = [354, 235, 431, 232, 332, 435, 623, 302, 212, 600, 423, 298, 290, 439]\n",
    "plot_hist(without_ad)"
   ]
  },
  {
   "cell_type": "code",
   "execution_count": 7,
   "metadata": {},
   "outputs": [
    {
     "data": {
      "image/png": "[encoded data removed]",
      "text/plain": [
       "<Figure size 864x432 with 1 Axes>"
      ]
     },
     "metadata": {},
     "output_type": "display_data"
    }
   ],
   "source": [
    "with_ad = [421, 534, 283, 443, 532, 321, 324, 234, 437, 535, 321, 234, 432, 234]\n",
    "plot_hist(with_ad)"
   ]
  },
  {
   "cell_type": "markdown",
   "metadata": {},
   "source": [
    "Обе выборки выглядят странно, и даже без применения критериев согласия можно сказать, что они точно не подчиняются нормальному распределению. Однако проводить исследование нужно, поэтому применим непараметрический критерий.\n",
    "\n",
    "* Нулевая гипотеза: различий между доходом с рекламой и без нет;\n",
    "* Алтернатива: различия статистически значимы.\n",
    "\n",
    "Применим критерий:"
   ]
  },
  {
   "cell_type": "code",
   "execution_count": 8,
   "metadata": {},
   "outputs": [
    {
     "name": "stdout",
     "output_type": "stream",
     "text": [
      "Значение статистики: 49.50000\n",
      "p-value: 0.85058\n"
     ]
    }
   ],
   "source": [
    "print_result(stats.wilcoxon(without_ad, with_ad))"
   ]
  },
  {
   "cell_type": "markdown",
   "metadata": {},
   "source": [
    "Отсюда следует, что различия не являются значимыми при уровне $\\alpha = 0.05$."
   ]
  },
  {
   "cell_type": "markdown",
   "metadata": {},
   "source": [
    "### Критерий Краскела-Уоллиса"
   ]
  },
  {
   "cell_type": "markdown",
   "metadata": {},
   "source": [
    "**Критерий Краскела-Уоллиса** &ndash; непараметрический тест, предназначенный для проверки равенства медиан нескольких выборок. Данный критерий является многомерным обобщением критерия Уилкоксона-Манна-Уитни. Также его можно позиционировать как непараметрический аналог F-теста.\n",
    "\n",
    "Пусть имеем $k$ выборок, общее число элементов $N$. Выборки взяты из неизвестных непрерывных распределений $F_{1}(x),\\;\\ldots ,\\;F_{k}(x)$. Проверяется нулевая гипотеза $ H_{0}\\colon F_{1}(x)=\\ldots =F_{k}(x)$ при альтернативе $ H_{1}\\colon F_{1}(x)=F_{2}(x-\\Delta _{1})=\\ldots =F_{k}(x-\\Delta _{k-1})$. \n",
    "\n",
    "Алгоритм вычисления:\n",
    "1. Объединив все наблюдения, упорядочить их по возрастанию. Совпадающим значениям ранги присваиваются как среднее тех мест, которые делят между собой эти значения.\n",
    "2. Вычислить критерий Краскела—Уоллиса $H$.\n",
    "3. Сравнить вычисленное значение $H$ с критическим. Если выборки малы ($k < 4, n_i < 9$), необходимо использовать таблицу. В ином случае сравнить значение $H$ с критическим значением распределения $\\chi^2(k-1)$ (либо для повышения точности использовать специальные аппроксимации). Если вычисленное значение $H$ окажется больше критического, различия групп статистически значимы.\n",
    "\n",
    "Статистика критерия выглядит следующим образом:\n",
    "\n",
    "$$ H ={\\frac{12}{N(N+1)}}\\sum _{i=1}^{k}{\\frac {R_{i}^{2}}{n_{i}}}-3(N+1), $$\n",
    "\n",
    "где $R_{i}=\\sum _{j=1}^{k}R_{ij}$, $R_{ij}$ &ndash; ранг $j$-го элемента $i$-й выборки. При большом числе совпадающих рангов значение $H$ рекомендуется поделить на величину $C$:\n",
    "\n",
    "$$ C = 1 - \\frac{\\sum_{i=1}^{k}\\left(\\tau_i-1\\right)\\tau_i\\left(\\tau_i+1\\right)}{N\\left(N^2 - 1\\right)}.$$\n",
    "\n",
    "Сравнивать значение $H$ с $\\chi^2(k-1)$ не корректно при $n_i < 20$. В таком случае лучше всего использовать **аппроксимацию Имана-Давенпорта**. В соответстви с ней нулевая гипотеза отклоняется с достоверностью $\\alpha$, если $J\\geqslant J_{\\alpha }$ , где \n",
    "\n",
    "$$ J={\\frac {H}{2}}\\left(1+{\\frac {N-k}{N-1-H}}\\right),$$ \n",
    "\n",
    "$$ J_{\\alpha }=\\left\\{(k-1)F_{\\alpha }(k-1;\\;N-k)+\\chi _{\\alpha }^{2}(k-1)\\right\\},$$ \n",
    "\n",
    "$F_{\\alpha }(f_{1};\\;f_{2})$ и $\\chi _{\\alpha }^{2}(\\nu)$ &ndash; соответственно критические значения статистик Фишера и хи-квадрат с соответствующими степенями свободы."
   ]
  },
  {
   "cell_type": "markdown",
   "metadata": {},
   "source": [
    "###  Критерий Фридмана"
   ]
  },
  {
   "cell_type": "markdown",
   "metadata": {},
   "source": [
    "**Критерий Фридмана** &mdash; статистический тест, являющийся непараметрическим аналогом дисперсионного анализа для повторных измерений. Обычно он используется для детектирования различий в каком либо методе (методе лечения, например), в серии повторных экспериментов над одной группой.\n",
    "\n",
    "Пусть имеем $k$ методов и $n$ объектов в выборке. Порядок расчета критерия:\n",
    "1. Расположить значения исследуемого параметра для каждого объекта по возрастанию, каждому значению следует присвоить ранг.\n",
    "2. Для каждого из методов подсчитать сумму присвоенных ему рангов.\n",
    "3. Вычислите значение статистики критерия $Q$.\n",
    "4. Если $k < 5, \\: n < 15$, то критическое значение определяется с помощью специальных таблиц. В случае больших выборок  используются критические значения распределения $\\chi^2(k-1)$.\n",
    "5. Если рассчитанное значение $Q$ превышает критическое, то различия статистически значимы.\n",
    "\n",
    "Статистика критерия:\n",
    "\n",
    "$$ Q={\\frac{12n}{k(k+1)}}\\sum _{j=1}^{k}\\left({\\bar {r}}_{j}-{\\frac {k+1}{2}}\\right)^{2}, $$\n",
    "\n",
    "$$\\bar{r}_{j} = \\frac{1}{n} \\sum_{i=1}^n {r_{ij}},$$\n",
    "\n",
    "где $r_{ij}$ &ndash; ранг $j$-го метода для $i$-го объекта."
   ]
  },
  {
   "cell_type": "markdown",
   "metadata": {},
   "source": [
    "#### Пример"
   ]
  },
  {
   "cell_type": "markdown",
   "metadata": {},
   "source": [
    "Вернемся к примеру с магазином. Объем продаж не удовлетворил владельца магазина, и он решил прибегнуть к другим методам повышения доходов. Было решено протестировать следующие 3 метода увеличения продаж:\n",
    "1. Перед магазином стоял человек, в громкоговоритель рассказывал о преимуществах данного магазина и раздавал листовки;\n",
    "2. Реклама о магазине распространялась через социальные сети в группах, тематикой которой является обсуждения района, в котором находится магазин;\n",
    "3. Комбинация расклейки объявлений и человека с громкоговорителем, сопровождающееся скидками и акциями в самом магазине.\n",
    "\n",
    "Первый метод:"
   ]
  },
  {
   "cell_type": "code",
   "execution_count": 9,
   "metadata": {},
   "outputs": [
    {
     "data": {
      "image/png": "[encoded data removed]",
      "text/plain": [
       "<Figure size 864x432 with 1 Axes>"
      ]
     },
     "metadata": {},
     "output_type": "display_data"
    }
   ],
   "source": [
    "first_method = [432, 535, 383, 243, 552, 521, 524, 234, 457, 435, 321, 334, 432, 434]\n",
    "plot_hist(first_method)"
   ]
  },
  {
   "cell_type": "markdown",
   "metadata": {},
   "source": [
    "Второй метод:"
   ]
  },
  {
   "cell_type": "code",
   "execution_count": 10,
   "metadata": {},
   "outputs": [
    {
     "data": {
      "image/png": "[encoded data removed]",
      "text/plain": [
       "<Figure size 864x432 with 1 Axes>"
      ]
     },
     "metadata": {},
     "output_type": "display_data"
    }
   ],
   "source": [
    "second_method = [232, 235, 211, 243, 412, 221, 524, 234, 457, 435, 421, 334, 332, 334]\n",
    "plot_hist(second_method)"
   ]
  },
  {
   "cell_type": "markdown",
   "metadata": {},
   "source": [
    "Третий метод:"
   ]
  },
  {
   "cell_type": "code",
   "execution_count": 11,
   "metadata": {},
   "outputs": [
    {
     "data": {
      "image/png": "[encoded data removed]",
      "text/plain": [
       "<Figure size 864x432 with 1 Axes>"
      ]
     },
     "metadata": {},
     "output_type": "display_data"
    }
   ],
   "source": [
    "third_method = [532, 635, 411, 343, 412, 321, 524, 334, 557, 635, 421, 334, 432, 434]\n",
    "plot_hist(third_method)"
   ]
  },
  {
   "cell_type": "markdown",
   "metadata": {},
   "source": [
    "Применим критерий Фридмана для 4ех методов: без рекламы плюс рассмотренные три.\n",
    "\n",
    "* Нулевая гипотеза: все рассмотренные методы не имют смысла и не увеличивают доход магазина;\n",
    "* Альтернатива: доход магазина изменяется при применении какого либо из этих методов."
   ]
  },
  {
   "cell_type": "code",
   "execution_count": 12,
   "metadata": {},
   "outputs": [
    {
     "name": "stdout",
     "output_type": "stream",
     "text": [
      "Значение статистики: 9.43902\n",
      "p-value: 0.02399\n"
     ]
    }
   ],
   "source": [
    "print_result(stats.friedmanchisquare(without_ad, first_method, second_method, third_method))"
   ]
  },
  {
   "cell_type": "markdown",
   "metadata": {},
   "source": [
    "Приходим к выводу, что выручка магазина действительно изменяется (при $\\alpha = 0.05$), однако неизвестно, при применении какого из этих методов. Для того, чтобы это определить, необходимо использовать непараметрические аналоги критериев множественного сравнения:\n",
    "\n",
    "* критерий Ньюмена–Кейлса;\n",
    "* критерий Даннета;\n",
    "* и другие...\n",
    "\n",
    "Узнать подробнее об их использовании можно в источнике [2]."
   ]
  },
  {
   "cell_type": "markdown",
   "metadata": {},
   "source": [
    "<br>"
   ]
  },
  {
   "cell_type": "markdown",
   "metadata": {},
   "source": [
    "<br>"
   ]
  },
  {
   "cell_type": "markdown",
   "metadata": {},
   "source": [
    "<br>"
   ]
  },
  {
   "cell_type": "markdown",
   "metadata": {},
   "source": [
    "### Примечание"
   ]
  },
  {
   "cell_type": "markdown",
   "metadata": {},
   "source": [
    "**Автор: Болгарин Максим. Физический факультет, МГУ, 2019г.**"
   ]
  },
  {
   "cell_type": "markdown",
   "metadata": {},
   "source": [
    "Данной работой я хотел донести до начинающих программистов и аналитиков основы математической статистики на базовом и понятном для каждого уровне. Моей целью не было просто переписать информацию из учебников и интернет статей, а сгруппировать её в понятном и информативном виде.\n",
    "\n",
    "Ссылка на мой github профиль: [перейти](https://github.com/maxbolgarin)"
   ]
  },
  {
   "cell_type": "markdown",
   "metadata": {},
   "source": [
    "#### Источники:\n",
    "1. [Wikipedia](https://ru.wikipedia.org/wiki/%D0%9C%D0%B0%D1%82%D0%B5%D0%BC%D0%B0%D1%82%D0%B8%D1%87%D0%B5%D1%81%D0%BA%D0%B0%D1%8F_%D1%81%D1%82%D0%B0%D1%82%D0%B8%D1%81%D1%82%D0%B8%D0%BA%D0%B0)\n",
    "2. [Стентон Гланц - Медико-биологическая статистика](https://yadi.sk/i/6A1LLMU78QqNPg)\n",
    "3. [Кобзарь А. И. - Прикладная математическая статистика](https://yadi.sk/i/GDGalzNXL0HsMA)\n",
    "4. [MachineLearning](http://www.machinelearning.ru/wiki/index.php?title=%D0%9F%D1%80%D0%BE%D0%B2%D0%B5%D1%80%D0%BA%D0%B0_%D1%81%D1%82%D0%B0%D1%82%D0%B8%D1%81%D1%82%D0%B8%D1%87%D0%B5%D1%81%D0%BA%D0%B8%D1%85_%D0%B3%D0%B8%D0%BF%D0%BE%D1%82%D0%B5%D0%B7)"
   ]
  }
 ],
 "metadata": {
  "kernelspec": {
   "display_name": "Python 3",
   "language": "python",
   "name": "python3"
  },
  "language_info": {
   "codemirror_mode": {
    "name": "ipython",
    "version": 3
   },
   "file_extension": ".py",
   "mimetype": "text/x-python",
   "name": "python",
   "nbconvert_exporter": "python",
   "pygments_lexer": "ipython3",
   "version": "3.6.5"
  }
 },
 "nbformat": 4,
 "nbformat_minor": 2
}
