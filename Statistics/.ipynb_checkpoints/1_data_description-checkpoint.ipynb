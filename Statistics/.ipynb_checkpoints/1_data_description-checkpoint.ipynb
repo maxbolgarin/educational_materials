{
 "cells": [
  {
   "cell_type": "markdown",
   "metadata": {},
   "source": [
    "# Основы математической статистики\n",
    "### Базовые понятия и методы проверки статистических гипотез"
   ]
  },
  {
   "cell_type": "markdown",
   "metadata": {},
   "source": [
    "### Часть 1. Описание данных"
   ]
  },
  {
   "cell_type": "markdown",
   "metadata": {},
   "source": [
    "<br>"
   ]
  },
  {
   "cell_type": "markdown",
   "metadata": {},
   "source": [
    "### Содержание:\n",
    "\n",
    "1. Описание данных:\n",
    "    * Нормальное распределение, выборочные оценки.\n",
    "    * Проврка гипотез: ошибки первого и второго рода.\n",
    "    * Статистические критерии, критерии согласия.\n",
    "    * Чувствительность критерия\n",
    "2. Критерии для несвязанных выборок:\n",
    "    * Дисперсионный анализ.\n",
    "    * Критерий Стьюдента.\n",
    "    * Множественные сравнения.\n",
    "3. Анализ качественных признаков:\n",
    "    * Z-критерий.\n",
    "    * Таблицы сопряженности: критерий $\\chi^2$.\n",
    "    * Точный критерий Фишера.\n",
    "4. Доверительные интервалы:\n",
    "    * Построение доверительных интервалов.\n",
    "    * Проверка гипотез с помощью доверительных интервалов.\n",
    "5. Связанные выборки, повторные измерения:\n",
    "    * Парный критерий Стьюдента.\n",
    "    * Новый подход к дисперсионному анализу.\n",
    "6. Непараметрические критерии:\n",
    "    * Критерий Манна—Уитни.\n",
    "    * Критерий Уилкоксона."
   ]
  },
  {
   "cell_type": "markdown",
   "metadata": {},
   "source": [
    "<br>"
   ]
  },
  {
   "cell_type": "markdown",
   "metadata": {},
   "source": [
    "<br>"
   ]
  },
  {
   "cell_type": "markdown",
   "metadata": {},
   "source": [
    "<br>"
   ]
  },
  {
   "cell_type": "markdown",
   "metadata": {},
   "source": [
    "**Математическая статистика** — раздел математики, разрабатывающий методы регистрации, описания и анализа данных наблюдений и экспериментов с целью построения вероятностных моделей массовых случайных явлений. Наиболее для нас интересными являются такие области математической статистики, как теория оценивания и теория проверки гипотез.\n",
    "\n",
    "**Методы оценивания и проверки гипотез** опираются на вероятностные модели происхождения данных. Эти модели делятся на параметрические и непараметрические. В параметрических моделях предполагается, что характеристики изучаемых объектов описываются посредством распределений, зависящих от (одного или нескольких) числовых параметров. Непараметрические модели не связаны со спецификацией параметрического семейства для распределения изучаемых характеристик. В математической статистике оценивают параметры и функции от них, представляющие важные характеристики распределений (например, математическое ожидание, медиана, стандартное отклонение, квантили и др.), плотности и функции распределения и пр. Используют точечные и интервальные оценки."
   ]
  },
  {
   "cell_type": "markdown",
   "metadata": {},
   "source": [
    "### Нормальное распределение"
   ]
  },
  {
   "cell_type": "markdown",
   "metadata": {},
   "source": [
    "Как было сказано ранее, характеристики объектов зачастую описываются посредством различных параметрических распределений. Самым распространенным и важным из них является нормальное распределение. Плотность нормального распределения выглядит следующим образом (определение понятий плотности, математического ожидания, дисперсии и т.д. является скорее предметом теории вероятностей, а не математической статистики, поэтому предполагается, что они уже известны читателю): "
   ]
  },
  {
   "cell_type": "markdown",
   "metadata": {},
   "source": [
    "$$ f(x) = \\frac{1}{\\sqrt{2\\pi\\sigma^2}}exp\\left(-\\frac{(x-\\mu)^2}{2\\sigma^2}\\right) $$"
   ]
  },
  {
   "cell_type": "markdown",
   "metadata": {},
   "source": [
    "Параметрами нормального распределения являются $\\mu$ и $\\sigma$, которые совпадают с математическим ожиданием и стандартным отклонением соотвественно."
   ]
  },
  {
   "cell_type": "markdown",
   "metadata": {},
   "source": [
    "Важное значение нормального распределения во многих областях науки вытекает из центральной предельной теоремы теории вероятностей. Если результат наблюдения является суммой многих случайных слабо взаимозависимых величин, каждая из которых вносит малый вклад относительно общей суммы, то при увеличении числа слагаемых распределение центрированного и нормированного результата стремится к нормальному. Этот закон теории вероятностей имеет следствием широкое распространение нормального распределения, что и стало одной из причин его наименования.\n",
    "\n",
    "Сформулируем классическую центральную предельную теорему. Пусть $X_1...X_n...$ - бесконечная последовательность независимых одинаково распределенных случайных величин с конечным математическим ожиданием $\\mu$ и дисперсией $\\sigma^2$. Тогда:\n",
    "\n",
    "$$ \\frac{S_n - n\\mu}{\\sigma\\sqrt{n}} \\rightarrow N(0, 1), \\:\\: n \\rightarrow \\infty, $$\n",
    "\n",
    "где $ S_n = \\sum_{i=1}^{n}X_n $."
   ]
  },
  {
   "cell_type": "markdown",
   "metadata": {},
   "source": [
    "<br>"
   ]
  },
  {
   "cell_type": "markdown",
   "metadata": {},
   "source": [
    "Введем несколько понятий:\n",
    "\n",
    "**Генеральная совокупность** – это совокупность всех мысленно возможных объектов данного вида, относительно которых предполагается делать выводы при изучении конкретной задачи.\n",
    "\n",
    "**Выборка (выборочная совокупность)** - совокупность случайно отобранных объектов из генеральной совокупности.\n",
    "\n",
    "Приведем пример. Допустим мы изучаем рост жителей в каком то отдельно выбранном городе в зафиксированный момент времени. Генеральной совокупностью в данном случае будет рост **всех** жителей данного города. Если мы арссматриваем мегаполис, то число жителей может быть очень большим (миллионы человек). Очевидно, что рост каждого померить невозможно (либо очень дорого). Поэтому, в рамках данного исследования, производился бы замер роста отдельных случайно выбранных жителей данного города. Таким образом, выборкой в данном случае является известный рост этих случайно выбранных для эксперимента жителей.\n",
    "\n",
    "Обычно исследователи очень редко имеют в распоряжении всю генеральную совокупность, поэтому приходится делать выводы исходя из существующей на данный момент выборки. Естественно, чем больше объем случайной выборки, тем лучше она отображает свойства всей совокупности."
   ]
  },
  {
   "cell_type": "markdown",
   "metadata": {},
   "source": [
    "### Генеральная совокупность"
   ]
  },
  {
   "cell_type": "markdown",
   "metadata": {},
   "source": [
    "Рассмотрим понятия генеральной совокупноси и выборки подобнее. Для этого будем использовать язык Python 3:"
   ]
  },
  {
   "cell_type": "code",
   "execution_count": 11,
   "metadata": {},
   "outputs": [],
   "source": [
    "import numpy as np\n",
    "from scipy import stats\n",
    "import matplotlib.pyplot as plt\n",
    "%matplotlib inline"
   ]
  },
  {
   "cell_type": "code",
   "execution_count": 31,
   "metadata": {},
   "outputs": [],
   "source": [
    "def norm_hist(sample, mean=None, std=None, loc=None, bars=8):\n",
    "    if loc is None:\n",
    "        loc = mean\n",
    "    plt.figure(figsize=(12, 6))\n",
    "    plt.hist(sample, bars, alpha=0.8)\n",
    "    \n",
    "    handles = []\n",
    "    if mean is not None:\n",
    "        lineMean = plt.axvline(mean, label=('Mean = ' + str(round(mean, 2))),\n",
    "                        color='r', linestyle='dashed', linewidth=1.5)\n",
    "        handles.append(lineMean)\n",
    "        \n",
    "        if std is not None:\n",
    "            lineLeft = plt.axvline(loc-std, label=('- sigma = ' + str(round(loc-std, 2))),\n",
    "                               color='g', linestyle='dashed', linewidth=1.5)\n",
    "            lineRight = plt.axvline(loc+std, label=('+ sigma = ' + str(round(loc+std, 2))),\n",
    "                                color='g', linestyle='dashed', linewidth=1.5)\n",
    "            handles.append(lineLeft)\n",
    "            handles.append(lineRight)\n",
    "        \n",
    "\n",
    "        plt.legend(handles=handles)\n",
    "    plt.show()"
   ]
  },
  {
   "cell_type": "markdown",
   "metadata": {},
   "source": [
    "Сгенерируем генеральную совокупность. Рассмотрим гипотетичесикй город X, в котором рост 10000 жителей распределен нормально с средним 175см и стандартным отклонением 10см:"
   ]
  },
  {
   "cell_type": "code",
   "execution_count": 32,
   "metadata": {},
   "outputs": [],
   "source": [
    "loc = 175\n",
    "scale = 10\n",
    "height_gen_pop = stats.norm(loc=loc, scale=scale).rvs(10000)\n",
    "height_gen_mean = np.mean(height_gen_pop)"
   ]
  },
  {
   "cell_type": "code",
   "execution_count": 33,
   "metadata": {},
   "outputs": [
    {
     "data": {
      "image/png": "[encoded data removed]",
      "text/plain": [
       "<Figure size 864x432 with 1 Axes>"
      ]
     },
     "metadata": {},
     "output_type": "display_data"
    }
   ],
   "source": [
    "norm_hist(height_gen_pop, height_gen_mean, scale, loc, 50)"
   ]
  },
  {
   "cell_type": "markdown",
   "metadata": {},
   "source": [
    "На графике так же отмечено среднее значение (которое совпадает с математическим ожиданием при стремлении числа объектов к бесконечности), а так же область с расстоянием не более одного стандартного отклонения от среднего. В эту область поадает примерно 68% всех значений; в область, которая отличается от среднего не более, чем на 2 стандартных отклонения попадает уже около 95% всех значений."
   ]
  },
  {
   "cell_type": "markdown",
   "metadata": {},
   "source": [
    "**Среднее значение**, определенное из генеральной совокупности, так же называют средним по совокупности: $ \\mu = \\frac{1}{N}\\sum_{i=1}^{N}x_i $.\n",
    "\n",
    "**Стандартное отклонение совокупности:** $ \\sigma = \\sqrt{\\frac{1}{N}\\sum_{i=1}^{N}(x_i-\\mu)} $.\n",
    "\n",
    "**Дисперсия:** $ \\sigma = \\frac{1}{N}\\sum_{i=1}^{N}(x_i-\\mu)$."
   ]
  },
  {
   "cell_type": "markdown",
   "metadata": {},
   "source": [
    "Для распределений другого типа, отличного от нормального, рассчитывать среднее и стандартное отклонение может повлечь за собой возникновение ошибок, особенно если распределение не является симметричным. Для описание таких случаев использую медиану и квантили (процентили).\n",
    "\n",
    "**Медиана** - это значение, которое делит распределение пополам. Половина значений больше медианы, а другая половина - меньше.\n",
    "\n",
    "**Квантиль** - значение, которое заданная случайная величина не превышает с фиксированной вероятностью. Если вероятность задана в процентах, то квантиль называется процентилем или перцентилем. Например, для нормального распределение значение $ \\mu + \\sigma $ является причерно 68-ым процентилем. Медиана же является 50-ым процентилем. Строго, $\\alpha$-квантиль для непрерывного распределения: $ F_X(x_{\\alpha}) = \\alpha $ "
   ]
  },
  {
   "cell_type": "markdown",
   "metadata": {},
   "source": [
    "### Случайная выборка из генеральной совокупности"
   ]
  },
  {
   "cell_type": "markdown",
   "metadata": {},
   "source": [
    "Как уже было сказано ранее, на практике редко удается довольствоваться всеми объектами совокупности. Обычно исследователи имеют дело с некоторой случайной выборкой, то есть оценивать параметры всей совокупности, обладая только некоторым числом её объектов. Приведем пример с ростом жителей города Х. Всего в нем живут 10000 человек, однако, на проведение эксперимента было выделенно ограниченное время и удалось измерить рост только 100 человек:"
   ]
  },
  {
   "cell_type": "code",
   "execution_count": 15,
   "metadata": {},
   "outputs": [],
   "source": [
    "n_of_people = 100\n",
    "height_sample = np.random.choice(height_gen_pop, size=n_of_people)\n",
    "sample_mean = np.mean(height_sample)\n",
    "sample_std = np.std(height_sample, ddof=1)"
   ]
  },
  {
   "cell_type": "code",
   "execution_count": 16,
   "metadata": {},
   "outputs": [
    {
     "data": {
      "image/png": "[encoded data removed]",
      "text/plain": [
       "<Figure size 864x432 with 1 Axes>"
      ]
     },
     "metadata": {},
     "output_type": "display_data"
    }
   ],
   "source": [
    "norm_hist(height_sample, sample_mean, sample_std)"
   ]
  },
  {
   "cell_type": "markdown",
   "metadata": {},
   "source": [
    "Как и в прошлий раз, на графике есть отметки, однако в этом случае отмечены выборочные оценки среднего и стандартного отклонения.\n",
    "\n",
    "**Выборочная оценка среднего значения:** $ \\bar{x} = \\frac{1}{n}\\sum_{i=1}^{n}x_i $, где $n$ - размер выборки. \n",
    "\n",
    "Данная оценка также называется оценкой максимального правдоподобия, является несмещенной, состоятельной и эффективной. В случае выборок малого объема ($n < 11$) может быть модифицирована следующим образом: $ \\bar{x}^* = \\sum_{i=1}^{n}\\frac{x_i}{d_i\\sum_{k=1}^{n}\\frac{1}{d_k}}$, где $ d_i = \\sum_{j=1}^{n}(x_j - x_i)^2 $.\n",
    "\n",
    "**Выборочная оценка стандартного отклонения:** $ s = \\sqrt{\\frac{1}{n-1}\\sum_{i=1}^{n}(x_i-\\bar{x})} $.\n",
    "\n",
    "Данная оценка также называется оценкой максимального правдоподобия, является несмещенной, состоятельной и эффективной. В знаменателе стоит $n-1$, для того, чтобы при малых значениях размера выборки $n < 30$ оценка являлась несмещенной. Другими словами, разброс значений в пределах выборки никогда не бывает столь большим, как во всей совокупности, и деление не на $n$, а на $n-1$ компенсирует возникающее занижение оценки стандартного отклонения."
   ]
  },
  {
   "cell_type": "markdown",
   "metadata": {},
   "source": [
    "Насколько точны выборочные оценки? Очевидно, что разные выборки будут давать разные оценки среднего и стандартного отклонения совокупности. Для характеристики точности выборочных оценок используют стандартную ошибку. Посчитаем стандартную ошибку среднего - велчину, позволяющую оценить точность, с которой выборочное среднее характеризует значение среднего по всей совокупности. Для этого извлечем из генеральной совокупности, например, 100 случайных выборок, найдем для каждой среднее и посчитаем стандартное отклонение (распределение средних также будет нормальным, см. центральная предельная теорема):"
   ]
  },
  {
   "cell_type": "code",
   "execution_count": 17,
   "metadata": {},
   "outputs": [
    {
     "data": {
      "image/png": "[encoded data removed]",
      "text/plain": [
       "<Figure size 864x432 with 1 Axes>"
      ]
     },
     "metadata": {},
     "output_type": "display_data"
    }
   ],
   "source": [
    "means = []\n",
    "stds = []\n",
    "for i in range(100):\n",
    "    sample = np.random.choice(height_gen_pop, size=n_of_people)\n",
    "    means.append(np.mean(sample))\n",
    "    stds.append(np.std(sample, ddof=1))\n",
    "    \n",
    "norm_hist(means, np.mean(means), np.std(stds, ddof=1))"
   ]
  },
  {
   "cell_type": "markdown",
   "metadata": {},
   "source": [
    "Как видим, среднее выборочных средних близко к среднему по всей совокупности, что и логично. Однако, стандартное отклонение средних не равно стандартному отклонению совокупности. Оно является мерой точности, с которой выборочное среднее значение является оценкой среднего по совокупности. Поэтому это значение носит название стандартной ошибки среднего. Выводится следующая формула для стандартной ошибки среднего:\n",
    "\n",
    "**Истинная стандартная ошибка среднего:** $\\sigma_{\\bar{x}} = \\frac{\\sigma}{\\sqrt{N}}$.\n",
    "\n",
    "**Стандартная ошибка оценки по данной выборке:** $s_{\\bar{x}} = \\frac{s}{\\sqrt{n}}$.\n",
    "\n",
    "Чем больше выборка, тем точнее оценка среднего и тем меньше его стандартная ошибка. Чем больше изменчивость исходной совокупности, тем больше изменчивость выборочных средних, поэтому стандартная ошибка среднего возрастает с увеличением стандартного отклонения совокупности. В отличие от стандартного отклонения стандартная ошибка среднего ничего не говорит о разбросе данных, — она лишь показывает точность выборочной оценки среднего."
   ]
  },
  {
   "cell_type": "markdown",
   "metadata": {},
   "source": [
    "### Статистические гипотезы"
   ]
  },
  {
   "cell_type": "markdown",
   "metadata": {},
   "source": [
    "**Статистическая гипотеза** - предположение о виде распределения и свойствах случайной величины, которое можно подтвердить или опровергнуть применением статистических методов к данным выборки. Проверка статистических гипотез является содержанием одного из обширных классов задач математической статистики.\n",
    "\n",
    "Дадим определение. Пусть в (статистическом) эксперименте доступна наблюдению случайная величина $X$, распределение которой $\\mathbb{P}$ полностью или частично неизвестно. Тогда любое утверждение относительно $\\mathbb {P}$  называется **статистической гипотезой**.\n",
    "\n",
    "Выдвинутая гипотеза нуждается в проверке, которая осуществляется статистическими методами, поэтому гипотезу называют статистической. Для проверки гипотезы используют критерии, позволяющие принять или опровергнуть гипотезу. В большинстве случаев статистические критерии основаны на случайной выборке $(X_{1},X_{2},\\dots ,X_{n})$ фиксированного объема $n\\geq 1$ для распределения $\\mathbb  P$. "
   ]
  },
  {
   "cell_type": "markdown",
   "metadata": {},
   "source": [
    "Дадим еще несколько определений понятий, учавствующих в проверке статистических гипотез.\n",
    "\n",
    "**Статистический критерий** - строгое математическое правило, по которому принимается или отвергается та или иная статистическая гипотеза с известным уровнем значимости. Построение критерия представляет собой выбор подходящей функции от результатов наблюдений (ряда эмпирически полученных значений признака), которая служит для выявления меры расхождения между эмпирическими значениями и гипотетическими.\n",
    "\n",
    "**Уровень значимости** - вероятность того, что при условии верности нулевой гипотезы будут обнаружены различия, равные наблюдаемым или превосходящие их. Таким образом, уровень $\\alpha$  значимости теста — вероятность отклонить гипотезу $H_0$, если на самом деле она верна (решение известное как ошибка первого рода, или ложноположительное решение).\n",
    "\n",
    "**Ошибка первого рода (ложноположительное решение, false positive)** - отклонение гипотезы $H_0$, когда она на самом деле верна (найти различия там, где их нет). Например, анализ данных о платежах клиента показал наличие аномалий (то есть возможную кражу денег со счета), хотя на самом деле этого не происходило.\n",
    "\n",
    "**Ошибка второго рода (ложноотрицательное решение, false negative)** - принятие гипотезы $H_0$, когда она на самом деле не является верной (не заметить различий там, где они на самом деле есть). Например, анализатор спама в почтовом сервисе пропустил рекламное письмо из за недостаточной чувствительности."
   ]
  },
  {
   "cell_type": "markdown",
   "metadata": {},
   "source": [
    "**Этапы проверки статистических гипотез:**\n",
    "1. Формулировка основной гипотезы $H_{0}$ и конкурирующей гипотезы $H_1$.\n",
    "2. Задание уровня значимости $\\alpha$ , на котором в дальнейшем и будет сделан вывод о справедливости гипотезы. Он равен вероятности допустить ошибку первого рода.\n",
    "3. Расчёт статистики $\\phi$  критерия такой, что:\n",
    "    1. Её величина зависит от исходной выборки ${\\mathbf  {X}}=(X_{1},\\ldots ,X_{n}):\\;\\phi =\\phi (X_{1},\\ldots ,X_{n})$;\n",
    "    2. По её значению можно делать выводы об истинности гипотезы $H_{0}$;\n",
    "    3. Статистика $\\phi$, как функция случайной величины $\\mathbf {X}$, также является случайной величиной и подчиняется какому-то закону распределения.\n",
    "4. Построение критической области. Из области значений $\\phi$  выделяется подмножество $\\mathbb {C}$  таких значений, по которым можно судить о существенных расхождениях с предположением. Его размер выбирается таким образом, чтобы выполнялось равенство $P(\\phi \\in {\\mathbb  {C}})=\\alpha $. Это множество $\\mathbb {C}$  и называется критической областью.\n",
    "5. Вывод об истинности гипотезы. Наблюдаемые значения выборки подставляются в статистику $\\phi$  и по попаданию (или непопаданию) в критическую область $\\mathbb {C}$  выносится решение об отвержении (или принятии) выдвинутой гипотезы $H_{0}$."
   ]
  },
  {
   "cell_type": "markdown",
   "metadata": {},
   "source": [
    "Поговорим немного о статистических критериях. Она подразделяются на следующие категории:\n",
    "1. Критерии значимости. Проверка на значимость предполагает проверку гипотезы о численных значениях известного закона распределения: $H_{0}: a=a_{0}$ — нулевая гипотеза. $ H_{1}: a>a_{0} (a<a_{0})$ или $ a\\neq a_{0}$ — конкурирующая гипотеза.\n",
    "2. Критерии согласия. Проверка на согласие подразумевает проверку предположения о том, что исследуемая случайная величина подчиняется предполагаемому закону. Критерии согласия можно также воспринимать как критерии значимости.\n",
    "3. Критерии проверки на однородность. При проверке на однородность случайные величины исследуются на факт значимости различия их законов распределения (т.е. проверки того, подчиняются ли эти величины одному и тому же закону).\n",
    "\n",
    "Это разделение условно, и зачастую один и тот же критерий может быть использован в разных качествах.\n",
    "\n",
    "Также важно отметить, что критерии делятся на параметрические и непараметрические. Первые включают в расчет параметры вероятностного распределения признака, вторые же основаны на оперировании частотами или рангами."
   ]
  },
  {
   "cell_type": "markdown",
   "metadata": {},
   "source": [
    "### Критерии согласия*"
   ]
  },
  {
   "cell_type": "markdown",
   "metadata": {},
   "source": [
    "Так как многие критерии предназначены только для одного типа распределений, перед их применением необходимо произвести проверку исследумеой выборки на принадлежность к инстересующему распределению.\n",
    "\n",
    "В общем виде, нулевая гипотеза при применении критериев согласия строится следующим образом: $ H_0: F_n(x) = F(x) $, где $F_n(x)$ - эмпирическая функция распределения, $F(x)$ - теоретическая функция распределения."
   ]
  },
  {
   "cell_type": "markdown",
   "metadata": {},
   "source": [
    "Часто используемым критерием для проверки гипотезы о принадлежности наблюдаемой выборки $x_{1},x_{2},...,x_{n}$ объёмом $n$ некоторому теоретическому закону распределения является **критерий согласия Пирсона**. Его суть заключается в следующем: диапазон изменения экспериментальных данных разбивается на $k$ интервалов и подсчитывается статистика: \n",
    "\n",
    "$$ \\chi^2 = \\sum_{i=1}^{k}\\frac{n_i - np_i}{np_i}, $$\n",
    "\n",
    "где $n_i$ - количство значений случайно величины, попавших в $i$-ый интервал, $p_i = F(x_{i+1}) - F(x_i)$ - теоретическая вероятность попадания величины в  $i$-ый интервал.\n",
    "\n",
    "На мощноть критерия сильное влияние оказывает число разбиений $k$. Существуют разные подходы к определению характера разбиений, однако существует одно простое и более-менее эффективное првило: следует выбирать максимальное $k$, но не более $\\frac{n}{5}$.\n",
    "\n",
    "Данная статистика имеет распределение хи-квадрат с $f=n-1$ степенями свободы. Таким образом, если значение статистики $\\chi^2 > \\chi_{\\alpha}(f)^2$, то нулевая гипотеза отклоняется при уровне значимости $\\alpha$."
   ]
  },
  {
   "cell_type": "markdown",
   "metadata": {},
   "source": [
    "#### Проверка нормальности распределения"
   ]
  },
  {
   "cell_type": "markdown",
   "metadata": {},
   "source": [
    "Так как нормальное распределение повсеместо распространено, было разработано множество критериев, работающих именно с ним (будут разобраны далее).\n",
    "\n",
    "Одним из самых популярных и эффективных критериев нормальности является **критерий Шапиро-Уилка**. Статистика критерия имеет вид: \n",
    "\n",
    "$$ W = \\frac{1}{s^2}\\left[\\sum_{i=1}^{n}a_{n-i+1}(x_{n-i+1} - x_i)\\right]^2, $$\n",
    "где $ s^2 = \\sum_{i=1}^{n}(x_i-\\bar{x}), \\; \\bar{x} = \\frac{1}{n}\\sum_{i=1}^{n}x_i $, значения коэфициента $a_{n-i+1}$ берутся из специальной таблицы.\n",
    "\n",
    "Если значение статистики $ W < W(\\alpha) $, то нулевая гипотеза о нормальности распределения отклоняется при уровне значимости $\\alpha$. Критические значения так же берутся из таблицы, либо находятся с помощью аппроксимаций."
   ]
  },
  {
   "cell_type": "markdown",
   "metadata": {},
   "source": [
    "Еще одним мощным тестом нормальности является **критерий $K^2$**. Почитать о нем можно [здесь](https://en.wikipedia.org/wiki/D%27Agostino%27s_K-squared_test)."
   ]
  },
  {
   "cell_type": "markdown",
   "metadata": {},
   "source": [
    "#### Пример проверки гипотезы о нормальности"
   ]
  },
  {
   "cell_type": "markdown",
   "metadata": {},
   "source": [
    "Прежде чем приступать к применению критериев на практике, следует затронуть еще одну тему, касающегося определения P-значения. Здесь не просто так не приводятся (и не будут) таблицы критических значений и коэфициентов статистик. Все расчеты будут производиться с помощью специально разработанных для этого библиотек на языке Python. И в качестве реузльтата большинство функций расчета статистик критериев возвращают кортеж из статистики критерия и P-значения.\n",
    "\n",
    "Так вот, по определению, P-значение (англ. P-value) — вероятность получить для данной вероятностной модели распределения значений случайной величины такое же или более экстремальное значение статистики (среднего арифметического, медианы и др.), по сравнению с ранее наблюдаемым, при условии, что нулевая гипотеза верна.\n",
    "\n",
    "Может показаться сложным, поэтому, другими словами, p - вероятность ошибочно отвергнуть верную нулевую гипотезу, то есть найти различия там, где их нет. Получается, что чем меньше значение p, тем больше вероятность того, что нулевая гипотеза неверна. Таким образом, при p < $\\alpha$ нулевая гипотеза отклоняется, как говорят, при уровне значимости $\\alpha$.\n",
    "\n",
    "Для любителей математики, формальное определение: пусть $T(X)$ — статистика, используемая при тестировании некоторой нулевой гипотезы $H_{0}$. Предполагается, что если нулевая гипотеза справедлива, то распределение этой статистики известно. Обозначим функцию распределения $F(t)=P(T<t)$. P-значение чаще всего (при проверке правосторонней альтернативы) определяется как: $P(t)=P(T>t)=1-F(t)$. При проверке левосторонней альтернативы: $P_{0}(t)=P(T<t)=F(t)$. В случае двустороннего теста p-значение равно: $P(t)=2\\min(P_{0}, P)$."
   ]
  },
  {
   "cell_type": "markdown",
   "metadata": {},
   "source": [
    "Сгенерируем выборку из стандартного нормального распределения, но подвергнем её шуму:"
   ]
  },
  {
   "cell_type": "code",
   "execution_count": 84,
   "metadata": {},
   "outputs": [],
   "source": [
    "def get_random_sample(size, a=0, b=1):\n",
    "    return (b-a) * np.random.sample(size) + a"
   ]
  },
  {
   "cell_type": "code",
   "execution_count": 101,
   "metadata": {},
   "outputs": [],
   "source": [
    "sample_noised = stats.norm(loc=0, scale=1).rvs(100) + get_random_sample(100, -1.5, 1.5)"
   ]
  },
  {
   "cell_type": "code",
   "execution_count": 102,
   "metadata": {
    "scrolled": false
   },
   "outputs": [
    {
     "data": {
      "image/png": "[encoded data removed]",
      "text/plain": [
       "<Figure size 864x432 with 1 Axes>"
      ]
     },
     "metadata": {},
     "output_type": "display_data"
    }
   ],
   "source": [
    "norm_hist(sample_noised, np.mean(sample_noised))"
   ]
  },
  {
   "cell_type": "markdown",
   "metadata": {},
   "source": [
    "Применим критерий Шапиро-Уилка:"
   ]
  },
  {
   "cell_type": "code",
   "execution_count": 103,
   "metadata": {},
   "outputs": [
    {
     "name": "stdout",
     "output_type": "stream",
     "text": [
      "Значение статистики: 0.9865853190422058\n",
      "p-value: 0.41034919023513794\n"
     ]
    }
   ],
   "source": [
    "(W, p_shapiro) = stats.shapiro(sample_noised)\n",
    "print(\"Значение статистики: \" + str(W))\n",
    "print(\"p-value: \" + str(p_shapiro))"
   ]
  },
  {
   "cell_type": "markdown",
   "metadata": {},
   "source": [
    "Так как шум невелик, $p > \\alpha$ и гипотеза о нормальности распределения принимается при уровне значимости $\\alpha = 0.05$ (наиболее популярный уровень). Однако, чем ближе $p$ к уровню $\\alpha$, тем выше вероятность того, что на самом деле мы ошибаемся и нулевая гипотеза неверна."
   ]
  },
  {
   "cell_type": "markdown",
   "metadata": {},
   "source": [
    "Применим критерий $K^2$:"
   ]
  },
  {
   "cell_type": "code",
   "execution_count": 104,
   "metadata": {},
   "outputs": [
    {
     "name": "stdout",
     "output_type": "stream",
     "text": [
      "Значение статистики: 3.5034815179507603\n",
      "p-value: 0.17347170803452353\n"
     ]
    }
   ],
   "source": [
    "(K, p_k) = stats.normaltest(sample_noised)\n",
    "print(\"Значение статистики: \" + str(K))\n",
    "print(\"p-value: \" + str(p_k))"
   ]
  },
  {
   "cell_type": "markdown",
   "metadata": {},
   "source": [
    "Гипотеза о нормальности так же принимается на уровне значимости $\\alpha = 0.05$, однако p-value здесь меньше."
   ]
  },
  {
   "cell_type": "markdown",
   "metadata": {},
   "source": [
    "В качестве бонуса можно рассмотреть очень простой пример проверки соответствия экспериментального распределения теоретическому - Q–Q (quantile-quantile) plot. Суть его в следующем: \n",
    "1. Рассматриваем $k$-квантиль теоретического распределения, то есть значение $x_k : F(x_{k}) = k$, затем $k$-квантиль выборки $\\hat{x_k}$;\n",
    "2. Наносим на график точку $(x_k, \\hat{x_k})$;\n",
    "3. Повторяем процедуру для всех $k \\in (0, 1)$ с некоторым шагом.\n",
    "\n",
    "Если все точки лежат на одной прямой линии, значит распределения совпадают."
   ]
  },
  {
   "cell_type": "code",
   "execution_count": 105,
   "metadata": {},
   "outputs": [
    {
     "data": {
      "image/png": "[encoded data removed]",
      "text/plain": [
       "<Figure size 432x288 with 1 Axes>"
      ]
     },
     "metadata": {},
     "output_type": "display_data"
    }
   ],
   "source": [
    "stats.probplot(sample_noised, dist=\"norm\", plot=plt)\n",
    "plt.show()"
   ]
  },
  {
   "cell_type": "markdown",
   "metadata": {},
   "source": [
    "Как видим, точки лежат примерно на одной прямой, поэтому мы можем отнести рассматриваемую выборку к нормально распределенной."
   ]
  },
  {
   "cell_type": "markdown",
   "metadata": {},
   "source": [
    "<br>"
   ]
  },
  {
   "cell_type": "markdown",
   "metadata": {},
   "source": [
    "<br>"
   ]
  },
  {
   "cell_type": "markdown",
   "metadata": {},
   "source": [
    "### Примечание"
   ]
  },
  {
   "cell_type": "markdown",
   "metadata": {},
   "source": [
    "**Автор: Болгарин Максим. Физический факультет, МГУ, 2019г.**"
   ]
  },
  {
   "cell_type": "markdown",
   "metadata": {},
   "source": [
    "Данной работой я хотел донести до начинающих программистов и аналитиков основы математической статистики на базовом и понятном для каждого уровне. Моей целью не было просто переписать информацию из учебников и интернет статей, а сгруппировать её в понятном и информативном виде."
   ]
  },
  {
   "cell_type": "markdown",
   "metadata": {},
   "source": [
    "#### Источники:\n",
    "1. [Wikipedia](https://ru.wikipedia.org/wiki/%D0%9C%D0%B0%D1%82%D0%B5%D0%BC%D0%B0%D1%82%D0%B8%D1%87%D0%B5%D1%81%D0%BA%D0%B0%D1%8F_%D1%81%D1%82%D0%B0%D1%82%D0%B8%D1%81%D1%82%D0%B8%D0%BA%D0%B0)\n",
    "2. [Стентон Гланц - Медико-биологическая статистика](https://yadi.sk/i/6A1LLMU78QqNPg)\n",
    "3. [Кобзарь А. И. - Прикладная математическая статистика](https://yadi.sk/i/GDGalzNXL0HsMA)"
   ]
  }
 ],
 "metadata": {
  "kernelspec": {
   "display_name": "Python 3",
   "language": "python",
   "name": "python3"
  },
  "language_info": {
   "codemirror_mode": {
    "name": "ipython",
    "version": 3
   },
   "file_extension": ".py",
   "mimetype": "text/x-python",
   "name": "python",
   "nbconvert_exporter": "python",
   "pygments_lexer": "ipython3",
   "version": "3.6.5"
  }
 },
 "nbformat": 4,
 "nbformat_minor": 2
}
