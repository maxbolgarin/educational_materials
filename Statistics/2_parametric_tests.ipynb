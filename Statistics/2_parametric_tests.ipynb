{
 "cells": [
  {
   "cell_type": "markdown",
   "metadata": {},
   "source": [
    "# Основы математической статистики\n",
    "### Базовые понятия и методы проверки статистических гипотез"
   ]
  },
  {
   "cell_type": "markdown",
   "metadata": {},
   "source": [
    "### Часть 2. Параметрические критерии"
   ]
  },
  {
   "cell_type": "markdown",
   "metadata": {},
   "source": [
    "### Содержание:\n",
    "\n",
    "1. Описание данных:\n",
    "    * Нормальное распределение, выборочные оценки.\n",
    "    * Проврка гипотез: ошибки первого и второго рода.\n",
    "    * Статистические критерии, критерии согласия.\n",
    "    * Чувствительность критерия.\n",
    "2. Параметрические критерии:\n",
    "    * Дисперсионный анализ.\n",
    "    * Критерий Стьюдента.\n",
    "    * Связанные выборки.\n",
    "    * Множественные сравнения.\n",
    "3. Анализ качественных признаков:\n",
    "    * Z-критерий.\n",
    "    * Таблицы сопряженности: критерий $\\chi^2$.\n",
    "    * Точный критерий Фишера.\n",
    "4. Доверительные интервалы:\n",
    "    * Построение доверительных интервалов.\n",
    "    * Проверка гипотез с помощью доверительных интервалов.\n",
    "5. Непараметрические критерии:\n",
    "    * Критерий Манна—Уитни.\n",
    "    * Критерий Уилкоксона."
   ]
  },
  {
   "cell_type": "markdown",
   "metadata": {},
   "source": [
    "<br>"
   ]
  },
  {
   "cell_type": "markdown",
   "metadata": {},
   "source": [
    "<hr>"
   ]
  },
  {
   "cell_type": "markdown",
   "metadata": {},
   "source": [
    "<br>"
   ]
  },
  {
   "cell_type": "markdown",
   "metadata": {},
   "source": [
    "### Несвязанные и связанные выборки"
   ]
  },
  {
   "cell_type": "markdown",
   "metadata": {},
   "source": [
    "**Несвязанными (независимыми) выборками** называются выборки, полученные независимо друг от друга. Например, для проверки эффективности лекарственного средства исследователи собрали две группы, одной давали лекарство, второй плацебо. Это пример несвязанных выборок.\n",
    "\n",
    "**Связанными (зависимыми) выборками** называются выборки, полученные в строгой зависимости друг от друга. Например, для проверки эффективности лекарственного средства исследователи выделили **одну** группу людей, и замерили их показатели исследумеого параметра до приема препарата, и после приема. При анализе имеем две выборки, однако они относятся к одним и тем же объектам (в данном случае это одни и те же люди).\n",
    "\n",
    "Критерии для связанных и несвязанных выборок несколько различаются. Для начала рассмотрим независимые."
   ]
  },
  {
   "cell_type": "markdown",
   "metadata": {},
   "source": [
    "### Дисперсионный анализ"
   ]
  },
  {
   "cell_type": "markdown",
   "metadata": {},
   "source": [
    "**Дисперсионный анализ (ANOVA, ANalysis Of VAriance)** &mdash; метод в математической статистике, направленный на поиск зависимостей в экспериментальных данных путём исследования значимости различий в средних значениях. Суть дисперсионного анализа сводится к изучению влияния одной или нескольких независимых переменных, обычно именуемых факторами, на зависимую переменную. Зависимые переменные представлены значениями абсолютных шкал. Независимые переменные являются номинативными (шкала наименований), то есть отражают групповую принадлежность, и могут иметь две или более градации (или уровня). Например, мы можем исследовать, как зависит среднее число кликов пользователя по элементам интерфейса (зависимая переменная) от различных вариантов реализации данного интерфейса (фактор, независимая переменная).\n",
    "\n",
    "В зависимости от типа и количества переменных различают:\n",
    "\n",
    "* однофакторный и многофакторный дисперсионный анализ (одна или несколько независимых переменных);\n",
    "* одномерный и многомерный (MANOVA) дисперсионный анализ (одна или несколько зависимых переменных);\n",
    "* дисперсионный анализ с постоянными факторами, случайными факторами, и смешанные модели с факторами обоих типов.\n",
    "\n",
    "Исходными положениями дисперсионного анализа являются:\n",
    "\n",
    "* нормальное распределение значений изучаемого признака в генеральной совокупности;\n",
    "* равенство дисперсий в сравниваемых генеральных совокупностях (гомоскедастичность);\n",
    "* случайный и независимый характер выборки.\n",
    "\n",
    "Для подтверждения положения о равенстве дисперсий обычно применяется критерий Ливена (Levene's test) или критерий Бартлетта. В случае отвержения гипотезы о равенстве дисперсий основной анализ неприменим."
   ]
  },
  {
   "cell_type": "markdown",
   "metadata": {},
   "source": [
    "Рассмотрим критерий, играющий важную роль в дисперсионном анализе &mdash; **F-критерий (F-тест).**\n",
    "\n",
    "Нулевой гипотезой является утверждение о равенстве средних значений:\n",
    "\n",
    "$$ H_{0}{:}\\quad \\mu _{1}=\\mu _{2}=\\dots =\\mu _{j}. $$\n",
    "\n",
    "При отклонении нулевой гипотезы принимается альтернативная гипотеза о том, что не все средние равны, то есть имеются, по крайней мере, две группы, отличающиеся средними значениями:\n",
    "\n",
    "$$ H_{1}{:}\\quad \\mu _{1}\\neq \\mu _{2}\\neq \\dots \\neq \\mu _{j}.$$\n",
    "\n",
    "Процедура проверки состоит в определении соотношения систематической (межгрупповой) дисперсии к случайной (внутригрупповой) дисперсии в измеряемых данных. Соотношение межгрупповой и внутригрупповой дисперсий имеет распределение Фишера.\n",
    "\n",
    "Пусть выборка объёмом $n$ случайной величины $X$ разделена на $k$ групп с количеством наблюдений $n_{i}$ в i-ой группе. Тогда статистика F-критерия имеет вид:\n",
    "\n",
    "$$ F = \\frac{s_{exp}^2}{s_{unexp}^2} \\sim F(k-1, n-k), $$\n",
    "\n",
    "где:\n",
    "\n",
    "$ s_{exp}^2 = \\frac{1}{k-1}\\sum_{i=1}^{k}n_i(\\bar{X_i} - \\bar{X})^2 $ &mdash; межгрупповая (объяснённая, систематическая) дисперсия, $\\bar{X_i}$ &ndash; среднее в каждой группе, $\\bar{X}$ &ndash; среднее средних;\n",
    "\n",
    "$ s_{unexp}^2 = \\frac{1}{n-k}\\sum_{i=1}^{k}\\sum_{j=1}^{n_i}(X_{ij} - \\bar{X_i})^2 $ &mdash; внутригрупповая (необъяснённая, случайная) дисперсия, то есть среднее выборочных дисперсий всех групп.\n",
    "\n",
    "Если $ F > F_{\\alpha}(k-1, n-k) $, то нулевая гипотеза отклоняется при уровне значимости $\\alpha$."
   ]
  },
  {
   "cell_type": "markdown",
   "metadata": {},
   "source": [
    "#### Пример"
   ]
  },
  {
   "cell_type": "code",
   "execution_count": 1,
   "metadata": {},
   "outputs": [],
   "source": [
    "import numpy as np\n",
    "from scipy import stats\n",
    "import matplotlib.pyplot as plt\n",
    "%matplotlib inline"
   ]
  },
  {
   "cell_type": "code",
   "execution_count": 2,
   "metadata": {},
   "outputs": [],
   "source": [
    "def error_bar(sample_groups):\n",
    "    x = np.mean(sample_groups, axis=1)\n",
    "    y = np.arange(len(sample_groups))\n",
    "    e = np.std(sample_groups, axis=1)\n",
    "\n",
    "    plt.errorbar(x, y, xerr=e, linestyle='None', marker='o')\n",
    "    plt.errorbar(np.mean(x), len(y) ,xerr=np.std(x), linestyle='None', marker='o')\n",
    "    plt.show()\n",
    "    \n",
    "def get_random_sample(size, a=0, b=1):\n",
    "    return (b-a) * np.random.sample(size) + a\n",
    "\n",
    "def print_result(result):\n",
    "    print(\"Значение статистики: %.5f\" % result[0])\n",
    "    print(\"p-value: %.5f\" % result[1])"
   ]
  },
  {
   "cell_type": "markdown",
   "metadata": {},
   "source": [
    "Приведем следующий пример. Владелец магазина пытается определить наиболее эффективное расположение стеллажей. У него есть данные по среднему чеку покупателей для 4-ех различных планировок магазина (очевидно из кода, что выборки берутся из одной совокупнсти, но сделаем вид, что мы этого не видели и не знаем, как они на самом деле распределены, то есть у нас есть только информация, заключенная в списке ```sample_groups```). Тогда, нулевая гипотеза состоит в том, что все группы взяты из одного распределния, то есть статистически значимых различий между ними нет."
   ]
  },
  {
   "cell_type": "code",
   "execution_count": 3,
   "metadata": {},
   "outputs": [],
   "source": [
    "ave_income = stats.norm(loc=550, scale=150).rvs(1000)\n",
    "sample_groups = [np.random.choice(ave_income, size=40) + get_random_sample(40, -50, 50)\n",
    "                 for i in range(4)]"
   ]
  },
  {
   "cell_type": "code",
   "execution_count": 4,
   "metadata": {},
   "outputs": [
    {
     "data": {
      "image/png": "[encoded data removed]",
      "text/plain": [
       "<Figure size 432x288 with 1 Axes>"
      ]
     },
     "metadata": {},
     "output_type": "display_data"
    }
   ],
   "source": [
    "error_bar(sample_groups)"
   ]
  },
  {
   "cell_type": "markdown",
   "metadata": {},
   "source": [
    "Представив себя на месте владельца магазина (который обладает только списком ```sample_groups```), можем на наглядном error_bar увидеть, что межгрупповая дисперсия (дисперсия средних, оранжевый показатель) заметно меньше внутригрупповой (дисперсии в выборках), что подтверждает нулевую гипотезу. Для проверки данной догадки, воспользуемся дисперсионным анализом."
   ]
  },
  {
   "cell_type": "markdown",
   "metadata": {},
   "source": [
    "Так как исследователь изначально не знает, распределены ли выборки нормально, необходимо применить критерий согласия. Это необходимо, так как F-тест работает только с нормальными выборками."
   ]
  },
  {
   "cell_type": "code",
   "execution_count": 5,
   "metadata": {},
   "outputs": [
    {
     "name": "stdout",
     "output_type": "stream",
     "text": [
      "Гипотеза о нормальности принимается при уровне значимости 0.05\n"
     ]
    }
   ],
   "source": [
    "is_norm = True\n",
    "for group in sample_groups:\n",
    "    W, p_norm = stats.shapiro(group)\n",
    "    if p_norm < 0.05:\n",
    "        is_norm = False\n",
    "        break\n",
    "\n",
    "if is_norm:\n",
    "    print('Гипотеза о нормальности принимается', end=' ')\n",
    "else:\n",
    "    print('Гипотеза о нормальности отвергается', end=' ')\n",
    "    \n",
    "print('при уровне значимости 0.05')"
   ]
  },
  {
   "cell_type": "markdown",
   "metadata": {},
   "source": [
    "Теперь проверим вспомогательную гипотезу о равенстве дисперсий с помощью критерия Ливена:"
   ]
  },
  {
   "cell_type": "code",
   "execution_count": 6,
   "metadata": {},
   "outputs": [
    {
     "name": "stdout",
     "output_type": "stream",
     "text": [
      "Значение статистики: 0.21191\n",
      "p-value: 0.88803\n"
     ]
    }
   ],
   "source": [
    "print_result(stats.levene(*sample_groups))"
   ]
  },
  {
   "cell_type": "markdown",
   "metadata": {},
   "source": [
    "Гипотеза о равенстве дисперсий принимается при уровне значимости $\\alpha = 0.05$."
   ]
  },
  {
   "cell_type": "markdown",
   "metadata": {},
   "source": [
    "Теперь применим F-критерий:"
   ]
  },
  {
   "cell_type": "code",
   "execution_count": 7,
   "metadata": {},
   "outputs": [
    {
     "name": "stdout",
     "output_type": "stream",
     "text": [
      "Значение статистики: 1.58068\n",
      "p-value: 0.19626\n"
     ]
    }
   ],
   "source": [
    "print_result(stats.f_oneway(*sample_groups))"
   ]
  },
  {
   "cell_type": "markdown",
   "metadata": {},
   "source": [
    "Гипотеза о равенстве средних принимается при уровне значимости $\\alpha = 0.05$. Отсюда следует, что статистически значимых различий между рассмотренными 4-мя расположениями стеллажей в магазине нет."
   ]
  },
  {
   "cell_type": "markdown",
   "metadata": {},
   "source": [
    "<br>"
   ]
  },
  {
   "cell_type": "markdown",
   "metadata": {},
   "source": [
    "### Критерий Стьюдента"
   ]
  },
  {
   "cell_type": "markdown",
   "metadata": {},
   "source": [
    "**t-критерий Стьюдента** — общее название для статистических тестов, в которых статистика критерия имеет распределение Стьюдента. Наиболее часто t-критерии применяются для проверки равенства средних значений в **двух** выборках. Нулевая гипотеза предполагает, что средние равны (отрицание этого предположения называют гипотезой сдвига).\n",
    "\n",
    "Все разновидности критерия Стьюдента являются параметрическими и основаны на дополнительном предположении о нормальности выборки данных. Поэтому перед применением критерия Стьюдента рекомендуется выполнить проверку нормальности. Если гипотеза нормальности отвергается, можно проверить другие распределения, если и они не подходят, то следует воспользоваться непараметрическими статистическими тестами.\n",
    "\n",
    "t-тест бывает **одновыборочным и двувыборочным**. **Одновыборочный** применяется для проверки нулевой гипотезы $ H_{0}:\\mu=m $ о равенстве математического ожидания $ \\mu $ некоторому известному значению $ m $. Статистикой теста является:\n",
    "\n",
    "$$ t={\\frac {\\bar{X}-m}{\\frac{s_{X}}{\\sqrt{n}}}}, \\:\\;\\; s_{X}^{2}=\\frac{1}{(n-1)}\\sum_{{i=1}}^{n}(X_{i}-\\bar X)^{2}$$\n",
    "\n",
    "При нулевой гипотезе распределение этой статистики $t(n-1)$. Следует отметить, что критерий достаточно устойчив к отклонениям выборки от нормальности, однако всё еще важна независимость наблюдений. При превышении значения статистики по абсолютной величине критического значения данного распределения (при заданном уровне значимости) нулевая гипотеза отвергается."
   ]
  },
  {
   "cell_type": "markdown",
   "metadata": {},
   "source": [
    "**Двувыборочный t-критерий:** пусть имеются две независимые выборки объемами $n_{1},n_{2}$ нормально распределенных случайных величин $X_{1},X_{2}$ с одинаковыми дисперсиями. Необходимо проверить по выборочным данным нулевую гипотезу равенства математических ожиданий этих случайных величин $H_{0}:~\\mu_{1}=\\mu_{2}$. Статистика суть отношение разности выборочных средних к стандартной ошибке разности выборочных средних и выглядит следующим образом:\n",
    "\n",
    "$$ t = \\frac{\\bar{X}_{1}-\\bar{X}_{2}} {s_{p} \\cdot \\sqrt{\\frac{1}{n_{1}}+\\frac {1}{n_{2}}}},$$\n",
    "\n",
    "где $s_p $ выражается через выборочные дисперсии выборок $s_{X_1}, s_{X_2}$ следующим образом:\n",
    "\n",
    "$$ s_{p} = \\sqrt{\\frac{\\left(n_{1}-1\\right)s_{X_{1}}^{2} + \\left(n_{2}-1\\right)s_{X_{2}}^{2}}{n_{1}+n_{2}-2}}. $$\n",
    "\n",
    "При справедливости нулевой гипотезы данная статистика имеет распределение $t(n_{1}+n_{2}-2)$. Стоит отметить, что критерий Стьюдента является частным случаем дисперсионного анализа. В случае, описаном выше, связь с F-тестом выражется следующим образом: $ F = t^2 $."
   ]
  },
  {
   "cell_type": "markdown",
   "metadata": {},
   "source": [
    "Вполне очевиден факт, что далеко не всегда у экспериментальных выборок одинаковые дисперсии. Задача сравнения средних двух нормально распределённых выборок при неизвестных и неравных дисперсиях известна как **проблема Беренса-Фишера.** Точного решения этой задачи до настоящего времени нет, на практике используются различные приближения. Познакомимся с одним из таких, называемым **критерием Уэлча (Welch's t-test)**, который является адаптацией уже знакомого t-теста. Статистика критерия:\n",
    "\n",
    "$$ t={\\frac{\\bar X_{1}-\\bar X_{2}}{{\\sqrt{{\\frac{s_{1}^{2}}{n_{1}}}+{\\frac{s_{2}^{2}}{n_{2}}}}}}}, $$\n",
    "\n",
    "где $s_1, s_2$ &ndash; выборочные оценки дисперсии. Эта статистика при справедливости нулевой гипотезы имеет распределение $t(\\nu)$, где \n",
    "\n",
    "$$\\nu \\approx \\frac{\\left(\\frac{s_{1}^{2}}{n_{1}} + \\frac{s_{2}^{2}}{n_{2}}\\right)^2}{\\frac{s_{1}^{4}}{n_{1}^{2}(n_1-1)} + \\frac{s_{2}^{4}}{n_{2}^{2}(n_2 - 1)}} $$"
   ]
  },
  {
   "cell_type": "markdown",
   "metadata": {},
   "source": [
    "#### Пример"
   ]
  },
  {
   "cell_type": "markdown",
   "metadata": {},
   "source": [
    "Представим, что мы хотим изучить, оказывает ли влияение новая недавно разработанная система электронной регистрации на прием к врачу на среднее время, проведенное пациентом в ожидании приема. Пусть есть две выборки (как и в прошлый раз, закроем глаза на то, как они получаются) со средним временем ожидания приема за последний месяц в двух разных клиниках; в одной из них есть система электронной регистрации, а в другой &ndash; нет:"
   ]
  },
  {
   "cell_type": "code",
   "execution_count": 8,
   "metadata": {},
   "outputs": [],
   "source": [
    "group_1 = stats.norm(loc=12, scale=7).rvs(30)\n",
    "group_2 = stats.norm(loc=7, scale=4).rvs(30)"
   ]
  },
  {
   "cell_type": "code",
   "execution_count": 9,
   "metadata": {},
   "outputs": [
    {
     "data": {
      "image/png": "[encoded data removed]",
      "text/plain": [
       "<Figure size 432x288 with 1 Axes>"
      ]
     },
     "metadata": {},
     "output_type": "display_data"
    }
   ],
   "source": [
    "error_bar([group_1, group_2])"
   ]
  },
  {
   "cell_type": "markdown",
   "metadata": {},
   "source": [
    "Применим критерий Стьюдента, предварительно сделав тест на равенство дисперсий:"
   ]
  },
  {
   "cell_type": "code",
   "execution_count": 10,
   "metadata": {},
   "outputs": [
    {
     "name": "stdout",
     "output_type": "stream",
     "text": [
      "Значение статистики: 17.11199\n",
      "p-value: 0.00012\n"
     ]
    }
   ],
   "source": [
    "print_result(stats.levene(group_1, group_2))"
   ]
  },
  {
   "cell_type": "markdown",
   "metadata": {},
   "source": [
    "Гипотеза о равенстве дисперсий отклоняется при уровне значимости $\\alpha=0.05$. Поэтому используем критерий Уэлча:"
   ]
  },
  {
   "cell_type": "code",
   "execution_count": 11,
   "metadata": {},
   "outputs": [
    {
     "name": "stdout",
     "output_type": "stream",
     "text": [
      "Значение статистики: 3.51645\n",
      "p-value: 0.00105\n"
     ]
    }
   ],
   "source": [
    "print_result(stats.ttest_ind(group_1, group_2, equal_var=False))"
   ]
  },
  {
   "cell_type": "markdown",
   "metadata": {},
   "source": [
    "Так как $p < \\alpha$, то отвергаем нулевую гипотезу при уровне значимости $\\alpha=0.05$."
   ]
  },
  {
   "cell_type": "markdown",
   "metadata": {},
   "source": [
    "### Связанные выборки"
   ]
  },
  {
   "cell_type": "markdown",
   "metadata": {},
   "source": [
    "Рассмотрим случай, когда приходится исследовать статистические отклонения среднего значения какой либо величины для одной группы, но в разных условиях. Использование критериев для несвязанных выборок в данном случае может привести к ошибке. Сформулируем **парный критерий Стьюдента:**\n",
    "\n",
    "$$ t = \\frac{\\bar{X}_{D}-d_{0}}{\\frac {s_{D}}{\\sqrt {n}}}, $$\n",
    "\n",
    "где $\\bar{X}_{D}$ &ndash; среднее разности между соотвествующими объектами выборок, $d_{0}$ &ndash; истинное среднее изменение ($d_{0}=0$ при правдивости нулевой гипотезы), $s_{D}$ &ndash; стандартное отклонение разности:\n",
    "\n",
    "$$ s_D = \\sqrt{\\frac{\\sum_{i=1}^{n}\\left(d-\\bar{d}\\right)^2}{n-1}}. $$\n",
    "\n",
    "Статистика подчиняется распределению $t(n-1)$. Стоит отметить, что если обычный критерий Стьюдента требует нормального распределения самих данных, то парный критерий Стьюдента требует нормального распределения их изменений.\n",
    "\n",
    "Теперь рассмотрим **модификацию F-теста на случай парных выборок.** Пусть имеются $k$ групп с одинаковым числом $n$ объектов в каждой. Тогда:\n",
    "\n",
    "$$ F = (n-1) \\frac{\\sum_{i=1}^{k}(\\bar{T_i} - \\bar{X})^2}{\\frac{1}{n}\\sum_{i=1}^{k}\\sum_{j=1}^{n} (X_{ij} - \\bar{X_j})^2 - \\sum_{i=1}^{k}(\\bar{T_i} - \\bar{X})^2}, $$\n",
    "\n",
    "где $\\bar{X} = \\frac{1}{nk}\\sum_{i=1}^{k}\\sum_{j=1}^{n}X_{ij}$ &ndash; общее среднее, $\\bar{T_i} = \\frac{1}{n}\\sum_{j=1}^{n}X_{ij}$ &ndash; среднее в группе, $\\bar{X_j} = \\frac{1}{k}\\sum_{i=1}^{k}X_{ij}$ &ndash; среднее значение между группами. Статистика имеет распределение $F(n-1, (n-1)(m-1))$. Недостатком является то, что размер групп должен быть равен друг другу, поэтому этот метод непопулярен. Вместо него можно использовать критерий Стьюдента с поправками на множественные сравнения."
   ]
  },
  {
   "cell_type": "markdown",
   "metadata": {},
   "source": [
    "#### Пример"
   ]
  },
  {
   "cell_type": "markdown",
   "metadata": {},
   "source": [
    "Пусть некто разработал новую диету для похудения. Для её тестирования набираются, например, 15 человек. Их вес замеряется, а затем они подвергаются диете в течении некоторого времени, и их вес снова замеряется. С помощью статистических методов необходимо проверить, работает ли диета."
   ]
  },
  {
   "cell_type": "code",
   "execution_count": 12,
   "metadata": {},
   "outputs": [],
   "source": [
    "group_before = stats.norm(loc=89, scale=8).rvs(15)\n",
    "group_after = stats.norm(loc=76, scale=16).rvs(15)"
   ]
  },
  {
   "cell_type": "code",
   "execution_count": 13,
   "metadata": {},
   "outputs": [
    {
     "data": {
      "image/png": "[encoded data removed]",
      "text/plain": [
       "<Figure size 432x288 with 1 Axes>"
      ]
     },
     "metadata": {},
     "output_type": "display_data"
    }
   ],
   "source": [
    "error_bar([group_before, group_after])"
   ]
  },
  {
   "cell_type": "markdown",
   "metadata": {},
   "source": [
    "Применим парный критерий Стьюдента:"
   ]
  },
  {
   "cell_type": "code",
   "execution_count": 14,
   "metadata": {},
   "outputs": [
    {
     "name": "stdout",
     "output_type": "stream",
     "text": [
      "Значение статистики: 3.06197\n",
      "p-value: 0.00845\n"
     ]
    }
   ],
   "source": [
    "print_result(stats.ttest_rel(group_before, group_after))"
   ]
  },
  {
   "cell_type": "markdown",
   "metadata": {},
   "source": [
    "Результат: различия статистически значимы при уровне $\\alpha = 0.05$."
   ]
  },
  {
   "cell_type": "markdown",
   "metadata": {},
   "source": [
    "### Множественные сравнения"
   ]
  },
  {
   "cell_type": "markdown",
   "metadata": {},
   "source": [
    "Используя дисперсионный анализ, мы можем проверить гипотезу о равенстве средних у более чем 2-ух выборок. Однако, при отклонении гипотезы о равенстве, он не дает никакой информации о том, какая именно выборка выделяется. Отсюда приходит идея использовать критерий Стьюдента для попарного сравнения групп. При этом вступает в силу **эффект множественных сравнений**. При проверке статистических гипотез для каждого утверждения, представляющего собой вывод об отвержении гипотезы, возникает возможность появления ошибки (ложного отклонения гипотезы, ошибки первого рода). При построении $m$ выводов вероятность того, что хотя бы один из них будет неверным, равна $P = 1-(1-\\alpha )^{m}$, что достаточно велико уже при небольших $m$ (например, при $m=5$ она равна $\\approx 22{,}6\\%$).\n",
    "\n",
    "Для поиска групп, отличающехся от остальных, применяются **методы множественного сравнения.** Все они основаны на критерии Стьюдента, но учитывают, что сравнивается более одной пары средних. Подход состоит в том, чтобы в первую очередь с помощью дисперсионного анализа проверить нулевую гипотезу о равенстве всех средних, а уже затем, если нулевая гипотеза отвергнута, выделить среди них отличные от остальных, используя для этого методы множественного сравнения. Простейший из методов множественного сравнения &mdash; введение **поправки Бонферрони.** \n",
    "\n",
    "Метод поправки Бонферрони утверждает, что для уменьшения ошибок первого рода, необходимо отклонить те гипотезы, для которых \n",
    "\n",
    "$$p < \\frac{\\alpha}{m},$$\n",
    "\n",
    "где $m$ &ndash; общее число гипотез (сколько раз применяется критерий при уровне значимости $\\alpha$). Например, при трехкратном сравнении уровень значимости должен быть $\\frac{0,05}{3} = 0.017\\%.$ Поправка Бонферрони хорошо работает, если число сравнений невелико. При увеличении $m$ в результате применения поправки Бонферрони мощность статистической процедуры резко уменьшается &ndash; шансы отклонить неверные гипотезы падают. Рекомендуется $m < 8$.\n",
    "\n",
    "Также можно использовать слегка менее строгую **Šidák correction**, то есть отклонять гипотезу при:\n",
    "\n",
    "$$ p < 1 - (1-\\alpha)^{1/m}. $$\n",
    "\n",
    "Еще одним методом коррекции уровня значимости при множественном тестировании является **метод Холма (поправка Холма — Бонферрони)**, который заключается в следующем. Пусть $ p_{(1)}\\leq \\,...\\,\\leq p_{(m)} $ &ndash; уровни значимости $p_{i}$, упорядоченные от наименьшего к наибольшему, $H_{(1)},...,H_{(m)}$ &ndash; соответствующие $p_{(i)}$ гипотезы. Тогда:\n",
    "* Шаг 1. Если $ p_{(1)}\\geq {\\frac {\\alpha }{m}} $, принять гипотезы $ H_{(1)},...,H_{(m)} $ и остановиться. Иначе, если $ p_{(1)}<{\\frac {\\alpha }{m}} $, отвергнуть гипотезу $H_{(1)}$ и продолжить проверку оставшихся гипотез на уровне значимости $\\frac {\\alpha }{m-1} $;\n",
    "* Шаг 2. Если $ p_{(2)}\\geq {\\frac {\\alpha }{m-1}} $, принять гипотезы $ H_{(2)},...,H_{(m)} $ и остановиться. Иначе, если $ p_{(2)}<{\\frac {\\alpha }{m-1}} $, отвергнуть гипотезу $ H_{(2)} $ и продолжить проверку оставшихся гипотез на уровне значимости $ \\frac {\\alpha }{m-2} $;\n",
    "* И так далее."
   ]
  },
  {
   "cell_type": "markdown",
   "metadata": {},
   "source": [
    "В качестве более мощных аналогов критерия Стьюдента с поправкой Бонферрони можно использовать: \n",
    "* **критерий Ньюмена–Кейлса**;\n",
    "* **критерий Тьюки**;\n",
    "* **критерий Даннета**.\n",
    "\n",
    "Их описание можно найти в источнике [2]."
   ]
  },
  {
   "cell_type": "markdown",
   "metadata": {},
   "source": [
    "### Одновыборочный тест на равенство дисперсий*"
   ]
  },
  {
   "cell_type": "markdown",
   "metadata": {},
   "source": [
    "В качестве дополнения к описанным выше параметрическим критериям стоит добавить одну из разновидностей **критерия** $\\mathbf{\\chi^2}$. Основы данного класса критериев будут описаны позже, однако данный тест более подходит для данного раздела.\n",
    "\n",
    "Итак, пусть имеется выборка из нормального распределения размера $n$. Требуется проверить гипотезу $ H_{0}:\\sigma=\\sigma_0 $ о равенстве дисперсии $ \\sigma $ некоторому известному значению $ \\sigma_0 $. Статистикой теста является:\n",
    "\n",
    "$$ \\chi^2 = (n-1)\\frac{s^2}{\\sigma^2_0}, $$\n",
    "\n",
    "где $s^2$ &ndash; выборочная дисперсия. Статистика критерия подчиняется распределению $\\chi^2$ с $n-1$ степенью свободы."
   ]
  },
  {
   "cell_type": "markdown",
   "metadata": {},
   "source": [
    "<br>"
   ]
  },
  {
   "cell_type": "markdown",
   "metadata": {},
   "source": [
    "<br>"
   ]
  },
  {
   "cell_type": "markdown",
   "metadata": {},
   "source": [
    "### Примечание"
   ]
  },
  {
   "cell_type": "markdown",
   "metadata": {},
   "source": [
    "**Автор: Болгарин Максим. Физический факультет, МГУ, 2019г.**"
   ]
  },
  {
   "cell_type": "markdown",
   "metadata": {},
   "source": [
    "Данной работой я хотел донести до начинающих программистов и аналитиков основы математической статистики на базовом и понятном для каждого уровне. Моей целью не было просто переписать информацию из учебников и интернет статей, а сгруппировать её в понятном и информативном виде."
   ]
  },
  {
   "cell_type": "markdown",
   "metadata": {},
   "source": [
    "#### Источники:\n",
    "1. [Wikipedia](https://ru.wikipedia.org/wiki/%D0%9C%D0%B0%D1%82%D0%B5%D0%BC%D0%B0%D1%82%D0%B8%D1%87%D0%B5%D1%81%D0%BA%D0%B0%D1%8F_%D1%81%D1%82%D0%B0%D1%82%D0%B8%D1%81%D1%82%D0%B8%D0%BA%D0%B0)\n",
    "2. [Стентон Гланц - Медико-биологическая статистика](https://yadi.sk/i/6A1LLMU78QqNPg)\n",
    "3. [Кобзарь А. И. - Прикладная математическая статистика](https://yadi.sk/i/GDGalzNXL0HsMA)\n",
    "4. [MachineLearning](http://www.machinelearning.ru/wiki/index.php?title=%D0%9F%D1%80%D0%BE%D0%B2%D0%B5%D1%80%D0%BA%D0%B0_%D1%81%D1%82%D0%B0%D1%82%D0%B8%D1%81%D1%82%D0%B8%D1%87%D0%B5%D1%81%D0%BA%D0%B8%D1%85_%D0%B3%D0%B8%D0%BF%D0%BE%D1%82%D0%B5%D0%B7)"
   ]
  }
 ],
 "metadata": {
  "kernelspec": {
   "display_name": "Python 3",
   "language": "python",
   "name": "python3"
  },
  "language_info": {
   "codemirror_mode": {
    "name": "ipython",
    "version": 3
   },
   "file_extension": ".py",
   "mimetype": "text/x-python",
   "name": "python",
   "nbconvert_exporter": "python",
   "pygments_lexer": "ipython3",
   "version": "3.6.5"
  }
 },
 "nbformat": 4,
 "nbformat_minor": 2
}
