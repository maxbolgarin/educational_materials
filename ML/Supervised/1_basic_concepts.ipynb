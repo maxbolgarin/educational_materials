{
 "cells": [
  {
   "cell_type": "markdown",
   "metadata": {},
   "source": [
    "# Основы машинного обучения\n",
    "\n",
    "### Раздел #1: обучение с учителем"
   ]
  },
  {
   "cell_type": "markdown",
   "metadata": {},
   "source": [
    "### Часть 1. Основные понятия машинного обучения"
   ]
  },
  {
   "cell_type": "markdown",
   "metadata": {},
   "source": [
    "### Содержание первого раздела:\n",
    "\n",
    "1. Основные понятия машинного обучения:\n",
    "    * ???\n",
    "    * Методы маштабирования данных.\n",
    "    * k-ближайших соседей (KNN).\n",
    "    * Наивный байесовский классификатор (Naive Bayes).\n",
    "2. Линейные модели (и не только???):\n",
    "    * Линейная регрессия.\n",
    "    * Логистическая регрессия.\n",
    "3. Метод опорных векторов (SVM):\n",
    "    * Линейный случай.\n",
    "    * Kernel trick.\n",
    "4. Деревья решений и ансамбли:\n",
    "    * Деревья решений.\n",
    "    * Случайный лес.\n",
    "    * Градиентный бустинг над деревьями решений."
   ]
  },
  {
   "cell_type": "markdown",
   "metadata": {},
   "source": [
    "<br>"
   ]
  },
  {
   "cell_type": "markdown",
   "metadata": {},
   "source": [
    "<hr>"
   ]
  },
  {
   "cell_type": "markdown",
   "metadata": {},
   "source": [
    "<br>"
   ]
  },
  {
   "cell_type": "markdown",
   "metadata": {},
   "source": [
    "### Введение"
   ]
  },
  {
   "cell_type": "markdown",
   "metadata": {},
   "source": []
  }
 ],
 "metadata": {
  "kernelspec": {
   "display_name": "Python 3",
   "language": "python",
   "name": "python3"
  },
  "language_info": {
   "codemirror_mode": {
    "name": "ipython",
    "version": 3
   },
   "file_extension": ".py",
   "mimetype": "text/x-python",
   "name": "python",
   "nbconvert_exporter": "python",
   "pygments_lexer": "ipython3",
   "version": "3.6.5"
  }
 },
 "nbformat": 4,
 "nbformat_minor": 2
}
